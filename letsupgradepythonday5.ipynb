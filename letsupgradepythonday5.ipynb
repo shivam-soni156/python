{
  "nbformat": 4,
  "nbformat_minor": 0,
  "metadata": {
    "colab": {
      "name": "letsupgradepythonday5.ipynb",
      "provenance": [],
      "collapsed_sections": [],
      "authorship_tag": "ABX9TyPCucCMp8DrhN5o4ZtP6+Kg",
      "include_colab_link": true
    },
    "kernelspec": {
      "name": "python3",
      "display_name": "Python 3"
    },
    "language_info": {
      "name": "python"
    }
  },
  "cells": [
    {
      "cell_type": "markdown",
      "metadata": {
        "id": "view-in-github",
        "colab_type": "text"
      },
      "source": [
        "<a href=\"https://colab.research.google.com/github/shivam-soni156/python/blob/main/letsupgradepythonday5.ipynb\" target=\"_parent\"><img src=\"https://colab.research.google.com/assets/colab-badge.svg\" alt=\"Open In Colab\"/></a>"
      ]
    },
    {
      "cell_type": "code",
      "source": [
        "#Use filter function to filter out the elements from a list that are divisible by 3 & 5\n",
        "\n",
        "li=list(range(1,100))\n",
        "def fun(n):\n",
        "  if n % 3 == 0:\n",
        "   return n % 5 == 0\n",
        "    \n",
        "print(\"numbers between 1 to 100 divisible by both 3 and 5:\",list(filter(fun, li)))\n"
      ],
      "metadata": {
        "colab": {
          "base_uri": "https://localhost:8080/"
        },
        "id": "7SahFI5ufYGB",
        "outputId": "94ad25f4-07ce-46d6-ebfb-f90561692e93"
      },
      "execution_count": 66,
      "outputs": [
        {
          "output_type": "stream",
          "name": "stdout",
          "text": [
            "numbers between 1 to 100 divisible by both 3 and 5: [15, 30, 45, 60, 75, 90]\n"
          ]
        }
      ]
    }
  ]
}