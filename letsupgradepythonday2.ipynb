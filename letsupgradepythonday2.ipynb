{
  "nbformat": 4,
  "nbformat_minor": 0,
  "metadata": {
    "colab": {
      "name": "letsupgradepythonday2.ipynb",
      "provenance": [],
      "authorship_tag": "ABX9TyMdgr3tgJUX8/imbRjpgrRs",
      "include_colab_link": true
    },
    "kernelspec": {
      "name": "python3",
      "display_name": "Python 3"
    },
    "language_info": {
      "name": "python"
    }
  },
  "cells": [
    {
      "cell_type": "markdown",
      "metadata": {
        "id": "view-in-github",
        "colab_type": "text"
      },
      "source": [
        "<a href=\"https://colab.research.google.com/github/shivam-soni156/python/blob/main/letsupgradepythonday2.ipynb\" target=\"_parent\"><img src=\"https://colab.research.google.com/assets/colab-badge.svg\" alt=\"Open In Colab\"/></a>"
      ]
    },
    {
      "cell_type": "markdown",
      "source": [
        "Day 2 Project Assignment:\n",
        "\n",
        "\n",
        "\n",
        "PROJECT :\n",
        "\n",
        "Let's say, you are in a lottery competition. A group of words has been given to you and you are asked to select any one character(only alphabets) which will get you a prize. You are a smart person and you thought of a way to select a character that will have maximum chances of winning a prize i.e. select the highest occurring character from the words.\n",
        "\n",
        "Given this situation you are required to write a code in Python that will select a character from the words that occurs the most.\n",
        "\n",
        "Note:\n",
        "1. Prizes may be allotted to the characters in any manner (sequential or alternate or any other way). Some characters may not be entitled for any prize.\n",
        "\n",
        "2. Ignore spaces and other special character. Consider only alphabets for prizes.\n",
        "\n",
        "3. Assume that all characters will be in lowercase.\n",
        "\n",
        "Example:\n",
        "\n",
        "\n",
        "\n",
        "Word Given: hello coders\n",
        "\n",
        "If Index of characters assigned with prize are as below: 0, 1, 4, 6, 8\n",
        "\n",
        "\n",
        "\n",
        "Then if you choose the characters at the above indices, only then you will win a prize.\n",
        "\n",
        "Selecting any of the following characters 'h' or 'e' or 'o' or 'c' or 'd' will only get you a prize.\n",
        "\n"
      ],
      "metadata": {
        "id": "upq4fmuT1Y14"
      }
    },
    {
      "cell_type": "code",
      "source": [
        "lot = \"qazplmwoksxmenjritduhfgcbv\"\n",
        "print(\"choose the lucky character from the lottery word and get a chance to win a prize \")\n",
        "enter=input(\" \").lower()\n",
        "\n",
        "if enter==lot[0] or enter==lot[5] or enter==lot[10] or enter==lot[23] or enter==lot[17]:\n",
        "  print('amazing, your luck shines,you win')\n",
        "else:\n",
        "  print(\"bad luck, try next time\")\n"
      ],
      "metadata": {
        "colab": {
          "base_uri": "https://localhost:8080/"
        },
        "id": "lHQmwrmc2s_x",
        "outputId": "59ef0f49-fef8-495f-bb46-6cdadcfaf181"
      },
      "execution_count": 20,
      "outputs": [
        {
          "output_type": "stream",
          "name": "stdout",
          "text": [
            "choose the lucky character from the lottery word and get a chance to win a prize \n",
            " e\n",
            "bad luck, try next time\n"
          ]
        }
      ]
    }
  ]
}