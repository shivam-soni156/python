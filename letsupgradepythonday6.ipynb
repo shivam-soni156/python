{
  "nbformat": 4,
  "nbformat_minor": 0,
  "metadata": {
    "colab": {
      "name": "letsupgradepythonday6.ipynb",
      "provenance": [],
      "collapsed_sections": [],
      "authorship_tag": "ABX9TyOO3y0JNO+kHGiaEvCGZxrz",
      "include_colab_link": true
    },
    "kernelspec": {
      "name": "python3",
      "display_name": "Python 3"
    },
    "language_info": {
      "name": "python"
    }
  },
  "cells": [
    {
      "cell_type": "markdown",
      "metadata": {
        "id": "view-in-github",
        "colab_type": "text"
      },
      "source": [
        "<a href=\"https://colab.research.google.com/github/shivam-soni156/python/blob/main/letsupgradepythonday6.ipynb\" target=\"_parent\"><img src=\"https://colab.research.google.com/assets/colab-badge.svg\" alt=\"Open In Colab\"/></a>"
      ]
    },
    {
      "cell_type": "code",
      "execution_count": 7,
      "metadata": {
        "colab": {
          "base_uri": "https://localhost:8080/"
        },
        "id": "Pzkf3BfuLO0Y",
        "outputId": "7cf2c716-7068-41bb-95d9-9f0b25ee2ad7"
      },
      "outputs": [
        {
          "output_type": "stream",
          "name": "stdout",
          "text": [
            "Enter two values: 3 7\n",
            "2\n"
          ]
        }
      ],
      "source": [
        "\"\"\"Consider the following function:\n",
        "\n",
        "def div(a, b):\n",
        "  return a // b\n",
        "Write a decorator, mod_div() that will add a feature to the above function which will make sure that numerator will be always greater than the denominator.\n",
        "\n",
        "Example:\n",
        "\n",
        "If a = 8 & b = 3, then result will be 2.\n",
        "\n",
        "If a = 3 & b = 8, then result should be also 2.\"\"\"\n",
        "\n",
        "\n",
        "\n",
        "\n",
        "def mod_div(fun):\n",
        "  def inner(a,b):\n",
        "    if a < b:\n",
        "      a, b = b, a\n",
        "      fun(a, b)\n",
        "  return inner\n",
        "\n",
        "@mod_div\n",
        "def div(a, b):\n",
        "  print (a // b)\n",
        "\n",
        "a, b = (int(i) for i in input('Enter two values: ').split())\n",
        " \n",
        "div(a, b)\n"
      ]
    }
  ]
}