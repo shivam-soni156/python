{
  "nbformat": 4,
  "nbformat_minor": 0,
  "metadata": {
    "colab": {
      "name": "letsupgradepython4.ipynb",
      "provenance": [],
      "collapsed_sections": [],
      "authorship_tag": "ABX9TyMbIzVw0Vktu+DfSh7ozSjW",
      "include_colab_link": true
    },
    "kernelspec": {
      "name": "python3",
      "display_name": "Python 3"
    },
    "language_info": {
      "name": "python"
    }
  },
  "cells": [
    {
      "cell_type": "markdown",
      "metadata": {
        "id": "view-in-github",
        "colab_type": "text"
      },
      "source": [
        "<a href=\"https://colab.research.google.com/github/shivam-soni156/python/blob/main/letsupgradepython4.ipynb\" target=\"_parent\"><img src=\"https://colab.research.google.com/assets/colab-badge.svg\" alt=\"Open In Colab\"/></a>"
      ]
    },
    {
      "cell_type": "code",
      "execution_count": 51,
      "metadata": {
        "colab": {
          "base_uri": "https://localhost:8080/"
        },
        "id": "Tn-1C4E9ZCy4",
        "outputId": "9a5e4de4-8235-42b0-a43b-f6a073b72bf0"
      },
      "outputs": [
        {
          "output_type": "stream",
          "name": "stdout",
          "text": [
            "enter a number:5\n",
            "factorial of 5 is 120\n"
          ]
        }
      ],
      "source": [
        "#Day 4 Assignment:\n",
        "\"\"\"Define a function which will take a number as argument and return its factorial.\n",
        "Call the function to print factorial of any number(integer).\"\"\"\n",
        "\n",
        "\n",
        "def fact(num):\n",
        "  f=1\n",
        "  if num <0:\n",
        "    print('factorial does not exists for negative numbers: ')\n",
        "  elif num==0:\n",
        "    print('factorial of 0 is 1')\n",
        "  else:\n",
        "   for i in range(1,num+1):\n",
        "        f=f*i\n",
        "  print('factorial of',num ,'is',f)\n",
        "num=int(input(\"enter a number:\"))       \n",
        "f=fact(num)\n",
        " \n",
        "\n"
      ]
    },
    {
      "cell_type": "code",
      "source": [
        "import math\n",
        "def fact(n):\n",
        "  return (math.factorial(n))\n",
        "\n",
        "num=int(input(\"enter the number:\"))\n",
        "print(\"factorial of\",num,\"is\",fact(num))"
      ],
      "metadata": {
        "colab": {
          "base_uri": "https://localhost:8080/"
        },
        "id": "3HMSp5SFs0o9",
        "outputId": "f7eb2730-86e4-4011-c25f-865044da426b"
      },
      "execution_count": 54,
      "outputs": [
        {
          "output_type": "stream",
          "name": "stdout",
          "text": [
            "enter the number:5\n",
            "factorial of 5 is 120\n"
          ]
        }
      ]
    }
  ]
}