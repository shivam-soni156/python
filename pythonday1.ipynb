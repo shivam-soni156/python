{
  "nbformat": 4,
  "nbformat_minor": 0,
  "metadata": {
    "colab": {
      "name": "pythonday1.ipynb",
      "provenance": [],
      "authorship_tag": "ABX9TyNsaY3f6hn0F3/Yg954pTmD",
      "include_colab_link": true
    },
    "kernelspec": {
      "name": "python3",
      "display_name": "Python 3"
    },
    "language_info": {
      "name": "python"
    }
  },
  "cells": [
    {
      "cell_type": "markdown",
      "metadata": {
        "id": "view-in-github",
        "colab_type": "text"
      },
      "source": [
        "<a href=\"https://colab.research.google.com/github/shivam-soni156/python/blob/main/pythonday1.ipynb\" target=\"_parent\"><img src=\"https://colab.research.google.com/assets/colab-badge.svg\" alt=\"Open In Colab\"/></a>"
      ]
    },
    {
      "cell_type": "code",
      "execution_count": 37,
      "metadata": {
        "id": "u9i3S1YJh3P_",
        "colab": {
          "base_uri": "https://localhost:8080/"
        },
        "outputId": "419e47aa-dc79-469f-9aff-2576e9b0903b"
      },
      "outputs": [
        {
          "output_type": "stream",
          "name": "stdout",
          "text": [
            "enter the values:4 3 2 1\n",
            "['4', '3', '2', '1']\n",
            "[4, 3, 2, 1] <class 'list'>\n",
            "<class 'int'>\n",
            "10\n"
          ]
        }
      ],
      "source": [
        "#take multiple inputs and calculate sum \n",
        "x = (input('enter the values:'))\n",
        "z=x.split()\n",
        "print(z)\n",
        "v=[]\n",
        "for i in z:\n",
        "  v.append(int(i))\n",
        "print(v,type(v))\n",
        "sum=0\n",
        "for i in v:\n",
        "  sum=sum+i\n",
        "print(sum)\n",
        "\n",
        "\n",
        "\n",
        "\n",
        "\n"
      ]
    },
    {
      "cell_type": "code",
      "source": [
        "#take multiple inputs and calculate sum\n",
        "#through List Comprehension\n",
        "x = [int(i) for i in input('Enter values: ').split()]\n",
        "\n",
        "print(x)\n",
        "sum=0\n",
        "for i in x:\n",
        "  sum=sum+i\n",
        "print(sum)\n"
      ],
      "metadata": {
        "colab": {
          "base_uri": "https://localhost:8080/"
        },
        "id": "f8aWosaODJsC",
        "outputId": "7665dea7-5f81-4058-81da-d6b08ea9143e"
      },
      "execution_count": 38,
      "outputs": [
        {
          "output_type": "stream",
          "name": "stdout",
          "text": [
            "Enter values: 4 5 1 7\n",
            "[4, 5, 1, 7]\n",
            "17\n"
          ]
        }
      ]
    }
  ]
}