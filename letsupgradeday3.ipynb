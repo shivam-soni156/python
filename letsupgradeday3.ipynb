{
  "nbformat": 4,
  "nbformat_minor": 0,
  "metadata": {
    "colab": {
      "name": "letsupgradeday3.ipynb",
      "provenance": [],
      "collapsed_sections": [],
      "authorship_tag": "ABX9TyNBybQ9LNnT+gTqSTto0KKb",
      "include_colab_link": true
    },
    "kernelspec": {
      "name": "python3",
      "display_name": "Python 3"
    },
    "language_info": {
      "name": "python"
    }
  },
  "cells": [
    {
      "cell_type": "markdown",
      "metadata": {
        "id": "view-in-github",
        "colab_type": "text"
      },
      "source": [
        "<a href=\"https://colab.research.google.com/github/shivam-soni156/python/blob/main/letsupgradeday3.ipynb\" target=\"_parent\"><img src=\"https://colab.research.google.com/assets/colab-badge.svg\" alt=\"Open In Colab\"/></a>"
      ]
    },
    {
      "cell_type": "code",
      "execution_count": 54,
      "metadata": {
        "id": "5P63WSL8x1yu",
        "colab": {
          "base_uri": "https://localhost:8080/"
        },
        "outputId": "087e29ba-5ccc-4442-b2e5-843367581643"
      },
      "outputs": [
        {
          "output_type": "stream",
          "name": "stdout",
          "text": [
            "{'harry': 20, 'tom': 60, 'jerry': 80, 'fab': 44, 'sam': 100}\n",
            "sam\n"
          ]
        }
      ],
      "source": [
        "#Day 3 Assignment:\n",
        "#From a dictionary, print the Key whose Value is maximum in the dictionary.\n",
        "dic={'harry':20,'tom':60,'jerry':80,'fab':44,'sam':100}\n",
        "print(dic)\n",
        "max=0\n",
        "str=\"\"\n",
        "for i in dic:\n",
        "  for j in i:\n",
        "    if dic [i] > max:\n",
        "      max=dic [i]\n",
        "      str= i\n",
        "\n",
        "print(str)    \n",
        "\n",
        "  \n",
        "\n",
        "\n",
        "\n",
        "  \n"
      ]
    }
  ]
}